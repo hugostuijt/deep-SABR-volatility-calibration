{
 "cells": [
  {
   "cell_type": "code",
   "execution_count": null,
   "metadata": {
    "ExecuteTime": {
     "end_time": "2021-06-26T16:17:01.725233Z",
     "start_time": "2021-06-26T16:17:01.085300Z"
    }
   },
   "outputs": [],
   "source": [
    "import pandas as pd\n",
    "import numpy as np\n",
    "from joblib import dump\n",
    "\n",
    "import keras\n",
    "from keras.layers import Activation\n",
    "from keras import backend as K\n",
    "from keras.utils.generic_utils import get_custom_objects\n",
    "keras.backend.set_floatx('float64')\n",
    "\n",
    "from sklearn.preprocessing import StandardScaler"
   ]
  },
  {
   "cell_type": "code",
   "execution_count": null,
   "metadata": {
    "ExecuteTime": {
     "end_time": "2021-06-26T16:17:03.204307Z",
     "start_time": "2021-06-26T16:17:03.195103Z"
    }
   },
   "outputs": [],
   "source": [
    "params = ['alpha', 'rho', 'v', 'T', 'K']\n",
    "DATA_PATH = r'C:\\Users\\hugo\\OneDrive\\Documents\\Quantitative Finance\\Thesis\\Data\\training_data'"
   ]
  },
  {
   "cell_type": "markdown",
   "metadata": {},
   "source": [
    "### Import training data"
   ]
  },
  {
   "cell_type": "code",
   "execution_count": null,
   "metadata": {
    "ExecuteTime": {
     "end_time": "2021-06-24T16:04:31.884481Z",
     "start_time": "2021-06-24T16:04:28.994534Z"
    }
   },
   "outputs": [],
   "source": [
    "training_data = pd.read_pickle(DATA_PATH + '/training_data_grid.pkl')\n",
    "random_data = pd.read_pickle(DATA_PATH + '/random_data.pkl')\n",
    "random_data = random_data.sample(frac=1).reset_index(drop=True)"
   ]
  },
  {
   "cell_type": "code",
   "execution_count": null,
   "metadata": {
    "ExecuteTime": {
     "end_time": "2021-06-24T16:04:32.429359Z",
     "start_time": "2021-06-24T16:04:32.275773Z"
    }
   },
   "outputs": [],
   "source": [
    "split_random = 2200000\n",
    "test_data_length = 2000000\n",
    "training_data = training_data.append(random_data[:split_random])\n",
    "test_data = random_data[split_random:split_random + test_data_length]\n",
    "heatmap_data = random_data[split_random + test_data_length:]"
   ]
  },
  {
   "cell_type": "code",
   "execution_count": null,
   "metadata": {
    "ExecuteTime": {
     "end_time": "2021-06-24T17:04:42.148546Z",
     "start_time": "2021-06-24T17:04:41.220099Z"
    }
   },
   "outputs": [],
   "source": [
    "training_data.to_pickle(DATA_PATH + '/training_data.pkl')"
   ]
  },
  {
   "cell_type": "code",
   "execution_count": null,
   "metadata": {
    "ExecuteTime": {
     "end_time": "2021-06-23T18:24:58.543803Z",
     "start_time": "2021-06-23T18:24:58.489454Z"
    }
   },
   "outputs": [],
   "source": [
    "test_data = pd.read_pickle(DATA_PATH + '/validation_data.pkl') # these are 2M simulations"
   ]
  },
  {
   "cell_type": "code",
   "execution_count": null,
   "metadata": {
    "ExecuteTime": {
     "end_time": "2021-06-24T16:42:41.589184Z",
     "start_time": "2021-06-24T16:42:40.635021Z"
    }
   },
   "outputs": [],
   "source": [
    "heatmap_data.to_pickle(DATA_PATH + '/heatmap_data.pkl')"
   ]
  },
  {
   "cell_type": "markdown",
   "metadata": {},
   "source": [
    "### Create final data sets"
   ]
  },
  {
   "cell_type": "code",
   "execution_count": null,
   "metadata": {
    "ExecuteTime": {
     "end_time": "2021-06-24T16:04:41.008714Z",
     "start_time": "2021-06-24T16:04:40.906174Z"
    }
   },
   "outputs": [],
   "source": [
    "train = training_data\n",
    "test = test_data\n",
    "\n",
    "x_train = train[params].to_numpy()\n",
    "y_train = train['impl_volatility'].to_numpy().reshape(-1, 1)\n",
    "\n",
    "x_test = test[params].to_numpy()\n",
    "y_test = test['impl_volatility'].to_numpy().reshape(-1, 1)"
   ]
  },
  {
   "cell_type": "markdown",
   "metadata": {
    "ExecuteTime": {
     "end_time": "2021-04-19T18:20:36.152531Z",
     "start_time": "2021-04-19T18:20:36.131624Z"
    }
   },
   "source": [
    "### Scale the data"
   ]
  },
  {
   "cell_type": "code",
   "execution_count": null,
   "metadata": {
    "ExecuteTime": {
     "end_time": "2021-06-24T16:04:43.884436Z",
     "start_time": "2021-06-24T16:04:42.837105Z"
    }
   },
   "outputs": [],
   "source": [
    "scale_x = StandardScaler()\n",
    "scale_y = StandardScaler()\n",
    "\n",
    "x_train_transform = scale_x.fit_transform(x_train)\n",
    "x_test_transform = scale_x.transform(x_test)\n",
    "\n",
    "y_train_transform = scale_y.fit_transform(y_train)\n",
    "y_test_transform = scale_y.transform(y_test)"
   ]
  },
  {
   "cell_type": "markdown",
   "metadata": {},
   "source": [
    "### Create Keras model"
   ]
  },
  {
   "cell_type": "code",
   "execution_count": null,
   "metadata": {
    "ExecuteTime": {
     "end_time": "2021-06-24T16:04:47.715438Z",
     "start_time": "2021-06-24T16:04:45.629044Z"
    }
   },
   "outputs": [],
   "source": [
    "input_params = keras.layers.Input(shape=(5,))\n",
    "hidden_1 = keras.layers.Dense(30, activation='elu')(input_params)\n",
    "hidden_2 = keras.layers.Dense(30, activation='elu')(hidden_1)\n",
    "hidden_3 = keras.layers.Dense(30, activation='elu')(hidden_2)\n",
    "hidden_4 = keras.layers.Dense(30, activation='elu')(hidden_3)\n",
    "\n",
    "output_layer = keras.layers.Dense(1, activation='linear')(hidden_4)\n",
    "\n",
    "\n",
    "model = keras.models.Model(inputs=input1, outputs=output_layer)\n",
    "model.summary()"
   ]
  },
  {
   "cell_type": "markdown",
   "metadata": {},
   "source": [
    "### Fit the model"
   ]
  },
  {
   "cell_type": "code",
   "execution_count": null,
   "metadata": {
    "ExecuteTime": {
     "end_time": "2021-06-24T16:41:50.338791Z",
     "start_time": "2021-06-24T16:04:58.427000Z"
    },
    "scrolled": true
   },
   "outputs": [],
   "source": [
    "def mean_squared_error(y_true, y_pred):\n",
    "        return K.mean(K.square(y_pred - y_true))\n",
    "\n",
    "earlystop = keras.callbacks.EarlyStopping(monitor='val_loss', patience=25)\n",
    "model.compile(loss = mean_squared_error, optimizer = \"adam\")\n",
    "model.fit(x_train_transform, y_train_transform, batch_size=2048, validation_data=(x_test_transform, y_test_transform),epochs = 200, verbose = True,shuffle=1,callbacks=[earlystop])\n",
    "history = model.history.history"
   ]
  },
  {
   "cell_type": "markdown",
   "metadata": {},
   "source": [
    "### Save model parameters"
   ]
  },
  {
   "cell_type": "code",
   "execution_count": null,
   "metadata": {
    "ExecuteTime": {
     "end_time": "2021-06-24T17:02:50.122403Z",
     "start_time": "2021-06-24T17:02:50.082543Z"
    }
   },
   "outputs": [],
   "source": [
    "save_path = r'C:\\Users\\hugo\\OneDrive\\Documents\\Quantitative Finance\\Thesis\\Data\\ann'\n",
    "modelGEN.save_weights(save_path + '\\weights_pointwise.h5')\n",
    "dump(scale_y, save_path + '\\scale_y_pointwise.bin', compress=True)\n",
    "dump(scale_x, save_path + '\\scale_x_pointwise.bin', compress=True)"
   ]
  },
  {
   "cell_type": "markdown",
   "metadata": {},
   "source": [
    "loss = cost function training data\n",
    "\n",
    "val_loss = cost function validation data"
   ]
  },
  {
   "cell_type": "code",
   "execution_count": null,
   "metadata": {
    "ExecuteTime": {
     "end_time": "2021-06-24T17:03:12.633384Z",
     "start_time": "2021-06-24T17:03:12.621416Z"
    }
   },
   "outputs": [],
   "source": [
    "# Save history\n",
    "pd.DataFrame(history).to_pickle(r\"C:\\Users\\hugo\\OneDrive\\Documents\\Quantitative Finance\\Thesis\\Data\\history_ANN.pkl\")"
   ]
  }
 ],
 "metadata": {
  "kernelspec": {
   "display_name": "Python 3",
   "language": "python",
   "name": "python3"
  },
  "language_info": {
   "codemirror_mode": {
    "name": "ipython",
    "version": 3
   },
   "file_extension": ".py",
   "mimetype": "text/x-python",
   "name": "python",
   "nbconvert_exporter": "python",
   "pygments_lexer": "ipython3",
   "version": "3.8.3"
  },
  "varInspector": {
   "cols": {
    "lenName": 16,
    "lenType": 16,
    "lenVar": 40
   },
   "kernels_config": {
    "python": {
     "delete_cmd_postfix": "",
     "delete_cmd_prefix": "del ",
     "library": "var_list.py",
     "varRefreshCmd": "print(var_dic_list())"
    },
    "r": {
     "delete_cmd_postfix": ") ",
     "delete_cmd_prefix": "rm(",
     "library": "var_list.r",
     "varRefreshCmd": "cat(var_dic_list()) "
    }
   },
   "types_to_exclude": [
    "module",
    "function",
    "builtin_function_or_method",
    "instance",
    "_Feature"
   ],
   "window_display": false
  }
 },
 "nbformat": 4,
 "nbformat_minor": 4
}
