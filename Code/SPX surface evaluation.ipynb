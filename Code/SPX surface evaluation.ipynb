{
 "cells": [
  {
   "cell_type": "code",
   "execution_count": 1,
   "metadata": {
    "ExecuteTime": {
     "end_time": "2021-06-09T09:35:00.951608Z",
     "start_time": "2021-06-09T09:34:56.389095Z"
    }
   },
   "outputs": [],
   "source": [
    "import sys\n",
    "sys.path.append('C:\\\\Users\\\\hugo\\\\OneDrive\\\\Documents\\\\Quantitative Finance\\\\Thesis\\\\Code\\\\src')\n",
    "import pandas as pd\n",
    "import time\n",
    "\n",
    "from src.classes import DataImporter\n",
    "from src import SABR\n",
    "from src.SABR_IV_approximators import Hagan, AntonovApprox, AntonovExact, AntonovANN\n",
    "\n",
    "import matplotlib.pyplot as plt\n",
    "\n",
    "import helperfunctions as hf\n",
    "# Supress numpy warnings\n",
    "import warnings\n",
    "warnings.filterwarnings(\"ignore\")\n",
    "\n",
    "data_importer = DataImporter()#r\"C:\\Users\\hugo\\OneDrive\\Documents\\Quantitative Finance\\spx.csv\")"
   ]
  },
  {
   "cell_type": "code",
   "execution_count": 52,
   "metadata": {
    "ExecuteTime": {
     "end_time": "2021-06-09T17:58:32.074074Z",
     "start_time": "2021-06-09T17:58:32.066074Z"
    }
   },
   "outputs": [],
   "source": [
    "save_path = r\"C:\\Users\\hugo\\OneDrive\\Documents\\Quantitative Finance\\Thesis\\Plots\"\n",
    "data_path = r\"C:\\Users\\hugo\\OneDrive\\Documents\\Quantitative Finance\\Thesis\\Data\"\n",
    "colors = ['#d7191c','#fdae61','#abd9e9','#2c7bb6']"
   ]
  },
  {
   "cell_type": "code",
   "execution_count": 40,
   "metadata": {
    "ExecuteTime": {
     "end_time": "2021-06-09T17:31:55.971706Z",
     "start_time": "2021-06-09T17:31:55.244102Z"
    }
   },
   "outputs": [],
   "source": [
    "surface = data_importer.surface_date(20190805, n_strikes=25, strike_bounds=(.4,1.6))\n",
    "surface = surface[surface['days'] >= 7]"
   ]
  },
  {
   "cell_type": "code",
   "execution_count": 82,
   "metadata": {
    "ExecuteTime": {
     "end_time": "2021-06-09T21:01:43.800333Z",
     "start_time": "2021-06-09T20:47:01.868558Z"
    }
   },
   "outputs": [
    {
     "name": "stdout",
     "output_type": "stream",
     "text": [
      "No strikes under ATM\n",
      "No strikes under ATM\n",
      "No strikes under ATM\n",
      "No strikes under ATM\n",
      "No strikes under ATM\n",
      "No strikes under ATM\n",
      "Error in least squares: Residuals are not finite in the initial point.\n",
      "Try default starting values\n",
      "Error in least squares: Residuals are not finite in the initial point.\n",
      "Try default starting values\n",
      "Error in least squares: Residuals are not finite in the initial point.\n",
      "Try default starting values\n",
      "Error in least squares: Residuals are not finite in the initial point.\n",
      "Try default starting values\n",
      "Error in least squares: Residuals are not finite in the initial point.\n",
      "Try default starting values\n",
      "Error in least squares: Residuals are not finite in the initial point.\n",
      "Try default starting values\n",
      "No strikes under ATM\n",
      "Error in least squares: Residuals are not finite in the initial point.\n",
      "Try default starting values\n",
      "No strikes under ATM\n",
      "Error in least squares: Residuals are not finite in the initial point.\n",
      "Try default starting values\n",
      "nan\n",
      "0.5\n",
      "nan\n",
      "nan\n",
      "(0.8892525084183259, 1)\n",
      "0.08767123287671233\n",
      "Errors with calculation of L\n",
      "Error in least squares: Residuals are not finite in the initial point.\n",
      "Try default starting values\n",
      "Error in least squares: Residuals are not finite in the initial point.\n",
      "Try default starting values\n",
      "Error in least squares: Residuals are not finite in the initial point.\n",
      "Try default starting values\n",
      "Error in least squares: Residuals are not finite in the initial point.\n",
      "Try default starting values\n",
      "Error in least squares: Residuals are not finite in the initial point.\n",
      "Try default starting values\n",
      "No strikes under ATM\n",
      "Error in least squares: Residuals are not finite in the initial point.\n",
      "Try default starting values\n",
      "Error in least squares: Residuals are not finite in the initial point.\n",
      "Try default starting values\n"
     ]
    }
   ],
   "source": [
    "hagan = SABR.calibrate_surface(surface, Hagan())\n",
    "ann = SABR.calibrate_surface(surface, AntonovANN())\n",
    "antonov = SABR.calibrate_surface(surface, AntonovApprox())"
   ]
  },
  {
   "cell_type": "code",
   "execution_count": 46,
   "metadata": {
    "ExecuteTime": {
     "end_time": "2021-06-09T17:50:38.792139Z",
     "start_time": "2021-06-09T17:50:38.776139Z"
    }
   },
   "outputs": [],
   "source": [
    "hagan = hagan.set_index('T')\n",
    "ann = ann.set_index('T')\n",
    "antonov = antonov.set_index('T')"
   ]
  },
  {
   "cell_type": "code",
   "execution_count": 66,
   "metadata": {
    "ExecuteTime": {
     "end_time": "2021-06-09T18:02:40.270743Z",
     "start_time": "2021-06-09T18:02:39.941481Z"
    }
   },
   "outputs": [
    {
     "name": "stderr",
     "output_type": "stream",
     "text": [
      "The PostScript backend does not support transparency; partially transparent artists will be rendered opaque.\n",
      "The PostScript backend does not support transparency; partially transparent artists will be rendered opaque.\n"
     ]
    },
    {
     "data": {
      "image/png": "[encoded data removed]",
      "text/plain": [
       "<Figure size 432x288 with 1 Axes>"
      ]
     },
     "metadata": {
      "needs_background": "light"
     },
     "output_type": "display_data"
    }
   ],
   "source": [
    "ax = plt.subplot()\n",
    "plt.scatter(antonov['days']/365, antonov['alpha'], marker='>', s=10, color=colors[1])\n",
    "plt.scatter(ann['days']/365, ann['alpha'], marker='x', color=colors[3])\n",
    "plt.scatter(hagan['days']/365, hagan['alpha'], marker='+', color=colors[0])\n",
    "\n",
    "plt.xlim(0,2.5)\n",
    "plt.xlabel('$T$ (years)')\n",
    "plt.ylabel(r'$\\alpha$')\n",
    "\n",
    "labels = ['Antonov', 'Antonov ANN', 'Hagan']\n",
    "plt.legend(loc=9, bbox_to_anchor=(0.5, -0.18), labels=labels, ncol=3)\n",
    "\n",
    "plt.grid()\n",
    "\n",
    "plt.savefig(save_path + '/spx_surface_alpha.eps', bbox_inches='tight')\n",
    "\n",
    "# plt.plot(ann['alpha'], marker='<')\n",
    "# plt.plot(antonov['alpha'], marker='<')"
   ]
  },
  {
   "cell_type": "code",
   "execution_count": 67,
   "metadata": {
    "ExecuteTime": {
     "end_time": "2021-06-09T18:03:13.838120Z",
     "start_time": "2021-06-09T18:03:13.536400Z"
    }
   },
   "outputs": [
    {
     "name": "stderr",
     "output_type": "stream",
     "text": [
      "The PostScript backend does not support transparency; partially transparent artists will be rendered opaque.\n",
      "The PostScript backend does not support transparency; partially transparent artists will be rendered opaque.\n"
     ]
    },
    {
     "data": {
      "image/png": "[encoded data removed]",
      "text/plain": [
       "<Figure size 432x288 with 1 Axes>"
      ]
     },
     "metadata": {
      "needs_background": "light"
     },
     "output_type": "display_data"
    }
   ],
   "source": [
    "ax = plt.subplot()\n",
    "plt.scatter(antonov['days']/365, antonov['rho'], marker='>', s=10, color=colors[1])\n",
    "plt.scatter(ann['days']/365, ann['rho'], marker='x', color=colors[3])\n",
    "plt.scatter(hagan['days']/365, hagan['rho'], marker='+', color=colors[0])\n",
    "\n",
    "plt.xlim(0,2.5)\n",
    "plt.xlabel('$T$ (years)')\n",
    "plt.ylabel(r'$\\rho$')\n",
    "\n",
    "labels = ['Antonov', 'Antonov ANN', 'Hagan']\n",
    "plt.legend(loc=9, bbox_to_anchor=(0.5, -0.18), labels=labels, ncol=3)\n",
    "\n",
    "plt.grid()\n",
    "\n",
    "plt.savefig(save_path + '/spx_surface_rho.eps', bbox_inches='tight')"
   ]
  },
  {
   "cell_type": "code",
   "execution_count": 68,
   "metadata": {
    "ExecuteTime": {
     "end_time": "2021-06-09T18:03:49.097088Z",
     "start_time": "2021-06-09T18:03:48.791726Z"
    }
   },
   "outputs": [
    {
     "name": "stderr",
     "output_type": "stream",
     "text": [
      "The PostScript backend does not support transparency; partially transparent artists will be rendered opaque.\n",
      "The PostScript backend does not support transparency; partially transparent artists will be rendered opaque.\n"
     ]
    },
    {
     "data": {
      "image/png": "[encoded data removed]",
      "text/plain": [
       "<Figure size 432x288 with 1 Axes>"
      ]
     },
     "metadata": {
      "needs_background": "light"
     },
     "output_type": "display_data"
    }
   ],
   "source": [
    "ax = plt.subplot()\n",
    "plt.scatter(antonov['days']/365, antonov['v'], marker='>', s=10, color=colors[1])\n",
    "plt.scatter(ann['days']/365, ann['v'], marker='x', color=colors[3])\n",
    "plt.scatter(hagan['days']/365, hagan['v'], marker='+', color=colors[0])\n",
    "\n",
    "plt.xlim(0,2.5)\n",
    "plt.xlabel('$T$ (years)')\n",
    "plt.ylabel(r'v')\n",
    "\n",
    "labels = ['Antonov', 'Antonov ANN', 'Hagan']\n",
    "plt.legend(loc=9, bbox_to_anchor=(0.5, -0.18), labels=labels, ncol=3)\n",
    "\n",
    "plt.grid()\n",
    "\n",
    "plt.savefig(save_path + '/spx_surface_v.eps', bbox_inches='tight')"
   ]
  },
  {
   "cell_type": "code",
   "execution_count": 87,
   "metadata": {
    "ExecuteTime": {
     "end_time": "2021-06-09T21:02:36.555446Z",
     "start_time": "2021-06-09T21:02:36.543445Z"
    }
   },
   "outputs": [
    {
     "data": {
      "text/plain": [
       "0.0728814240657922"
      ]
     },
     "execution_count": 87,
     "metadata": {},
     "output_type": "execute_result"
    }
   ],
   "source": [
    "hagan.time.mean()"
   ]
  },
  {
   "cell_type": "code",
   "execution_count": 88,
   "metadata": {
    "ExecuteTime": {
     "end_time": "2021-06-09T21:02:42.477226Z",
     "start_time": "2021-06-09T21:02:42.471182Z"
    }
   },
   "outputs": [
    {
     "data": {
      "text/plain": [
       "0.18242126522642194"
      ]
     },
     "execution_count": 88,
     "metadata": {},
     "output_type": "execute_result"
    }
   ],
   "source": [
    "ann.time.mean()"
   ]
  },
  {
   "cell_type": "code",
   "execution_count": 89,
   "metadata": {
    "ExecuteTime": {
     "end_time": "2021-06-09T21:02:49.987800Z",
     "start_time": "2021-06-09T21:02:49.982811Z"
    }
   },
   "outputs": [
    {
     "data": {
      "text/plain": [
       "25.576296746730804"
      ]
     },
     "execution_count": 89,
     "metadata": {},
     "output_type": "execute_result"
    }
   ],
   "source": [
    "antonov.time.mean()"
   ]
  }
 ],
 "metadata": {
  "kernelspec": {
   "display_name": "Python 3",
   "language": "python",
   "name": "python3"
  },
  "language_info": {
   "codemirror_mode": {
    "name": "ipython",
    "version": 3
   },
   "file_extension": ".py",
   "mimetype": "text/x-python",
   "name": "python",
   "nbconvert_exporter": "python",
   "pygments_lexer": "ipython3",
   "version": "3.8.3"
  },
  "varInspector": {
   "cols": {
    "lenName": 16,
    "lenType": 16,
    "lenVar": 40
   },
   "kernels_config": {
    "python": {
     "delete_cmd_postfix": "",
     "delete_cmd_prefix": "del ",
     "library": "var_list.py",
     "varRefreshCmd": "print(var_dic_list())"
    },
    "r": {
     "delete_cmd_postfix": ") ",
     "delete_cmd_prefix": "rm(",
     "library": "var_list.r",
     "varRefreshCmd": "cat(var_dic_list()) "
    }
   },
   "types_to_exclude": [
    "module",
    "function",
    "builtin_function_or_method",
    "instance",
    "_Feature"
   ],
   "window_display": false
  }
 },
 "nbformat": 4,
 "nbformat_minor": 4
}
