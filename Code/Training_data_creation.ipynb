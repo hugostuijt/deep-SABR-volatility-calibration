{
 "cells": [
  {
   "cell_type": "code",
   "execution_count": null,
   "metadata": {
    "ExecuteTime": {
     "end_time": "2021-06-07T11:29:47.767605Z",
     "start_time": "2021-06-07T11:29:43.425079Z"
    }
   },
   "outputs": [],
   "source": [
    "import sys\n",
    "sys.path.append('src')\n",
    "\n",
    "import pandas as pd\n",
    "import numpy as np\n",
    "import itertools\n",
    "import random\n",
    "import time\n",
    "import swifter\n",
    "\n",
    "from src.SABR_IV_approximators import AntonovApprox #, AntonovExact\n",
    "from src import helperfunctions as hf"
   ]
  },
  {
   "cell_type": "markdown",
   "metadata": {},
   "source": [
    "### Parameter ranges as 4.3.2"
   ]
  },
  {
   "cell_type": "code",
   "execution_count": null,
   "metadata": {
    "ExecuteTime": {
     "end_time": "2021-05-19T06:58:50.327180Z",
     "start_time": "2021-05-19T06:58:50.323191Z"
    }
   },
   "outputs": [],
   "source": [
    "days = [7, 14, 21, 30, 60, 90, 180, 270]\n",
    "years = [1, 2, 3, 4, 5, 6, 7, 8, 9, 10]"
   ]
  },
  {
   "cell_type": "code",
   "execution_count": null,
   "metadata": {
    "ExecuteTime": {
     "end_time": "2021-05-19T06:58:50.343139Z",
     "start_time": "2021-05-19T06:58:50.337154Z"
    }
   },
   "outputs": [],
   "source": [
    "alpha_range = np.linspace(.05, 1, 20)\n",
    "rho_range = np.linspace(-.95, .5, 20)\n",
    "\n",
    "K_range = np.arange(0.4,1.7,0.1)\n",
    "K_range = np.round(K_range,1)"
   ]
  },
  {
   "cell_type": "markdown",
   "metadata": {},
   "source": [
    "# Fixed grid parameter sampling"
   ]
  },
  {
   "cell_type": "markdown",
   "metadata": {},
   "source": [
    "#### First short term <1 year"
   ]
  },
  {
   "cell_type": "code",
   "execution_count": null,
   "metadata": {
    "ExecuteTime": {
     "end_time": "2021-05-18T12:36:17.279340Z",
     "start_time": "2021-05-18T10:28:54.221578Z"
    }
   },
   "outputs": [],
   "source": [
    "params = ['alpha', 'rho','v', 'T', 'K']\n",
    "for day in days:\n",
    "    T = day/365\n",
    "    v_range = np.linspace(hf.v_t_lower(T), hf.v_t_upper(T), 20)\n",
    "    string = str(day) + 'd'\n",
    "    comb = [alpha_range, rho_range, v_range, [T], K_range]\n",
    "    res = list(itertools.product(*comb))\n",
    "    res = pd.DataFrame(res, columns=params)\n",
    "    \n",
    "    start = time.time()\n",
    "    res['impl_volatility'] = res.swifter.apply(lambda x: AntonovApprox().calc_iv(x[0], 0.5, x[1], x[2], (x[4], 1), x[3]), axis=1)\n",
    "    stop = time.time()\n",
    "    print(stop-start)\n",
    "    \n",
    "    res.to_pickle('training_data/train_' + string + '.pkl')"
   ]
  },
  {
   "cell_type": "markdown",
   "metadata": {},
   "source": [
    "#### Now long term >1 year"
   ]
  },
  {
   "cell_type": "code",
   "execution_count": null,
   "metadata": {
    "ExecuteTime": {
     "end_time": "2021-05-18T16:20:10.603283Z",
     "start_time": "2021-05-18T12:36:17.391081Z"
    }
   },
   "outputs": [],
   "source": [
    "params = ['alpha', 'rho','v', 'T', 'K']\n",
    "for year in years:\n",
    "    T = year\n",
    "    v_range = np.linspace(hf.v_t_lower(T), hf.v_t_upper(T), 20)\n",
    "    string = str(year) + 'y'\n",
    "    comb = [alpha_range, rho_range, v_range, [T], K_range]\n",
    "    res = list(itertools.product(*comb))\n",
    "    res = pd.DataFrame(res, columns=params)\n",
    "    \n",
    "    start = time.time()\n",
    "    res['impl_volatility'] = res.swifter.apply(lambda x: AntonovApprox().calc_iv(x[0], 0.5, x[1], x[2], (x[4], 1), x[3]), axis=1)\n",
    "    stop = time.time()\n",
    "    print(stop-start)\n",
    "    \n",
    "    \n",
    "    res.to_pickle('training_data/train_' + string + '.pkl')"
   ]
  },
  {
   "cell_type": "markdown",
   "metadata": {},
   "source": [
    "## Random sampling strikes\n",
    "k = 1e5"
   ]
  },
  {
   "cell_type": "code",
   "execution_count": null,
   "metadata": {
    "ExecuteTime": {
     "start_time": "2021-05-18T20:37:02.723Z"
    },
    "scrolled": false
   },
   "outputs": [],
   "source": [
    "#random sampling\n",
    "k = 100000\n",
    "for i in range(1,50):\n",
    "    alpha_random = np.random.uniform(0, 1, size=k)\n",
    "    rho_random = np.random.uniform(-.999, .999, size=k)\n",
    "    K_random = np.random.uniform(0.4, 1.6, size=k)\n",
    "\n",
    "    if i % 2 == 0:\n",
    "        T_random = np.random.uniform(1, 10, size=k)\n",
    "        # sample random v from variable range\n",
    "        v_random = [np.random.uniform(hf.v_t_lower(t), hf.v_t_upper(t)) for t in T_random]\n",
    "    else:\n",
    "        T_random = np.random.uniform(7/365, 1, size=k)\n",
    "        # sample random v from variable range\n",
    "        v_random = [np.random.uniform(hf.v_t_lower(t), hf.v_t_upper(t)) for t in T_random]\n",
    "\n",
    "    params = ['alpha', 'rho','v', 'T', 'K']\n",
    "    res = pd.DataFrame(columns=params)\n",
    "    res['alpha'] = alpha_random\n",
    "    res['rho'] = rho_random\n",
    "    res['v'] = v_random\n",
    "    res['T'] = T_random\n",
    "    res['K'] = K_random\n",
    "\n",
    "    start = time.time()\n",
    "    res['impl_volatility'] = res.swifter.apply(lambda x: AntonovApprox().calc_iv(x[0], 0.5, x[1], x[2], (x[4], 1), x[3]), axis=1)\n",
    "#     res['impl_volatility'] = res.apply(lambda x: AntonovApprox().calc_iv(x[0], 0.5, x[1], x[2], (x[4], 1), x[3],0), axis=1)\n",
    "    stop = time.time()\n",
    "    print(stop - start)\n",
    "    \n",
    "    res.to_pickle('training_data/random_unstacked_' + str(i) + '.pkl')\n",
    "\n"
   ]
  },
  {
   "cell_type": "markdown",
   "metadata": {},
   "source": [
    "# Aggregate all data"
   ]
  },
  {
   "cell_type": "code",
   "execution_count": null,
   "metadata": {
    "ExecuteTime": {
     "end_time": "2021-05-19T06:58:51.946491Z",
     "start_time": "2021-05-19T06:58:50.368072Z"
    }
   },
   "outputs": [],
   "source": [
    "training_data = pd.DataFrame()\n",
    "for day in days:\n",
    "    string = str(day) + 'd'\n",
    "    df = pd.read_pickle('training_data/train_' + string + '.pkl')\n",
    "    training_data = training_data.append(df)\n",
    "\n",
    "for year in years:\n",
    "    string = str(year) + 'y'\n",
    "    df = pd.read_pickle('training_data/train_' + string + '.pkl')\n",
    "    training_data = training_data.append(df)"
   ]
  },
  {
   "cell_type": "code",
   "execution_count": null,
   "metadata": {
    "ExecuteTime": {
     "end_time": "2021-05-19T06:58:54.000093Z",
     "start_time": "2021-05-19T06:58:51.976544Z"
    }
   },
   "outputs": [],
   "source": [
    "random_data = pd.DataFrame()\n",
    "for i in range(1,33):\n",
    "    df = pd.read_pickle('training_data/random_unstacked_' + str(i) + '.pkl')\n",
    "    random_data = random_data.append(df)"
   ]
  },
  {
   "cell_type": "code",
   "execution_count": null,
   "metadata": {
    "ExecuteTime": {
     "end_time": "2021-05-19T06:58:54.731158Z",
     "start_time": "2021-05-19T06:58:54.560389Z"
    }
   },
   "outputs": [],
   "source": [
    "training_data = training_data[training_data['impl_volatility'] > 0]"
   ]
  },
  {
   "cell_type": "code",
   "execution_count": null,
   "metadata": {
    "ExecuteTime": {
     "end_time": "2021-05-19T07:03:04.801445Z",
     "start_time": "2021-05-19T07:03:04.664170Z"
    }
   },
   "outputs": [],
   "source": [
    "random_data = random_data[random_data['impl_volatility'] < 1000]"
   ]
  },
  {
   "cell_type": "code",
   "execution_count": null,
   "metadata": {
    "ExecuteTime": {
     "end_time": "2021-05-19T07:02:53.126465Z",
     "start_time": "2021-05-19T07:02:52.904480Z"
    }
   },
   "outputs": [],
   "source": [
    "training_data.to_pickle(r'C:\\Users\\hugo\\OneDrive\\Documents\\Quantitative Finance\\Thesis\\Data\\training_data\\training_data.pkl')"
   ]
  },
  {
   "cell_type": "code",
   "execution_count": null,
   "metadata": {
    "ExecuteTime": {
     "end_time": "2021-05-19T07:03:07.100535Z",
     "start_time": "2021-05-19T07:03:07.096544Z"
    }
   },
   "outputs": [],
   "source": [
    "len(random_data)"
   ]
  },
  {
   "cell_type": "code",
   "execution_count": null,
   "metadata": {
    "ExecuteTime": {
     "end_time": "2021-05-19T05:27:35.047208Z",
     "start_time": "2021-05-19T05:27:34.913116Z"
    }
   },
   "outputs": [],
   "source": [
    "len(random_data[random_data['impl_volatility'] > 0])"
   ]
  },
  {
   "cell_type": "code",
   "execution_count": null,
   "metadata": {
    "ExecuteTime": {
     "end_time": "2021-05-19T07:00:13.855209Z",
     "start_time": "2021-05-19T07:00:13.705477Z"
    }
   },
   "outputs": [],
   "source": [
    "random_data = random_data[random_data['impl_volatility'] > 0]"
   ]
  },
  {
   "cell_type": "code",
   "execution_count": null,
   "metadata": {
    "ExecuteTime": {
     "end_time": "2021-05-19T07:03:11.586436Z",
     "start_time": "2021-05-19T07:03:11.168236Z"
    }
   },
   "outputs": [],
   "source": [
    "random_data.to_pickle(r'C:\\Users\\hugo\\OneDrive\\Documents\\Quantitative Finance\\Thesis\\Data\\training_data\\test_data.pkl')"
   ]
  }
 ],
 "metadata": {
  "kernelspec": {
   "display_name": "Python 3",
   "language": "python",
   "name": "python3"
  },
  "language_info": {
   "codemirror_mode": {
    "name": "ipython",
    "version": 3
   },
   "file_extension": ".py",
   "mimetype": "text/x-python",
   "name": "python",
   "nbconvert_exporter": "python",
   "pygments_lexer": "ipython3",
   "version": "3.8.3"
  },
  "varInspector": {
   "cols": {
    "lenName": 16,
    "lenType": 16,
    "lenVar": 40
   },
   "kernels_config": {
    "python": {
     "delete_cmd_postfix": "",
     "delete_cmd_prefix": "del ",
     "library": "var_list.py",
     "varRefreshCmd": "print(var_dic_list())"
    },
    "r": {
     "delete_cmd_postfix": ") ",
     "delete_cmd_prefix": "rm(",
     "library": "var_list.r",
     "varRefreshCmd": "cat(var_dic_list()) "
    }
   },
   "types_to_exclude": [
    "module",
    "function",
    "builtin_function_or_method",
    "instance",
    "_Feature"
   ],
   "window_display": false
  }
 },
 "nbformat": 4,
 "nbformat_minor": 4
}
