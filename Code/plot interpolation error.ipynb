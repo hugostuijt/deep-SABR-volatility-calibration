{
 "cells": [
  {
   "cell_type": "code",
   "execution_count": 1,
   "metadata": {
    "ExecuteTime": {
     "end_time": "2021-07-15T15:42:43.268686Z",
     "start_time": "2021-07-15T15:42:39.436346Z"
    }
   },
   "outputs": [],
   "source": [
    "import sys\n",
    "sys.path.append('src')\n",
    "\n",
    "import pandas as pd\n",
    "import numpy as np\n",
    "from scipy.interpolate import interp1d\n",
    "\n",
    "import matplotlib.pyplot as plt\n",
    "\n",
    "from src import SABR\n",
    "from src.SABR_IV_approximators import AntonovApprox, Hagan\n",
    "import helperfunctions as hf\n",
    "from src.classes import MatlabMonteCarlo"
   ]
  },
  {
   "cell_type": "code",
   "execution_count": 3,
   "metadata": {
    "ExecuteTime": {
     "end_time": "2021-07-15T15:42:52.078745Z",
     "start_time": "2021-07-15T15:42:47.523377Z"
    }
   },
   "outputs": [
    {
     "name": "stdout",
     "output_type": "stream",
     "text": [
      "C:\\Users\\hugo\\OneDrive\\Documents\\Quantitative Finance\\Thesis\\Code\\matlab_code\n"
     ]
    }
   ],
   "source": [
    "MMC = MatlabMonteCarlo()"
   ]
  },
  {
   "cell_type": "code",
   "execution_count": 4,
   "metadata": {
    "ExecuteTime": {
     "end_time": "2021-07-15T15:42:52.141523Z",
     "start_time": "2021-07-15T15:42:52.136538Z"
    }
   },
   "outputs": [],
   "source": [
    "strike_min = 0.4\n",
    "strike_max = 1.6\n",
    "strike_step = .01\n",
    "strike_step_large = .1"
   ]
  },
  {
   "cell_type": "markdown",
   "metadata": {},
   "source": [
    "### Generate smile via Monte Carlo\n",
    "SABR parameters obtained via Hagan calibration on SPX options smile on 2020-09-03 with 15 days to expiry"
   ]
  },
  {
   "cell_type": "code",
   "execution_count": 7,
   "metadata": {
    "ExecuteTime": {
     "end_time": "2021-07-15T15:43:43.271046Z",
     "start_time": "2021-07-15T15:43:06.809304Z"
    }
   },
   "outputs": [
    {
     "name": "stderr",
     "output_type": "stream",
     "text": [
      "C:\\Users\\hugo\\OneDrive\\Documents\\Quantitative Finance\\Thesis\\Code\\src\\SABR_IV_approximators.py:32: RuntimeWarning: divide by zero encountered in arctanh\n",
      "  output = 2 * np.arctanh(np.sqrt(num / denom))\n"
     ]
    },
    {
     "data": {
      "image/png": "[encoded data removed]",
      "text/plain": [
       "<Figure size 432x288 with 1 Axes>"
      ]
     },
     "metadata": {
      "needs_background": "light"
     },
     "output_type": "display_data"
    }
   ],
   "source": [
    "T = 15/365\n",
    "alpha = .26\n",
    "beta = .5\n",
    "rho = -0.75\n",
    "v = 5.4\n",
    "\n",
    "# 0.25743722, -0.74265   ,  3.64955481\n",
    "\n",
    "smile = MMC.simulateSABRSmile(1e6, 100, T, 0., 1., alpha, beta, rho, v, (strike_min,strike_max,strike_step), smoothing=False)\n",
    "fit = SABR.plot_sim_fit([AntonovApprox()], alpha, beta, rho, v, T, smile)"
   ]
  },
  {
   "cell_type": "code",
   "execution_count": 5,
   "metadata": {
    "ExecuteTime": {
     "end_time": "2021-07-15T15:42:59.253576Z",
     "start_time": "2021-07-15T15:42:58.732161Z"
    }
   },
   "outputs": [
    {
     "name": "stderr",
     "output_type": "stream",
     "text": [
      "C:\\Users\\hugo\\OneDrive\\Documents\\Quantitative Finance\\Thesis\\Code\\src\\SABR_IV_approximators.py:32: RuntimeWarning: divide by zero encountered in arctanh\n",
      "  output = 2 * np.arctanh(np.sqrt(num / denom))\n"
     ]
    }
   ],
   "source": [
    "antonov = AntonovApprox()\n",
    "\n",
    "# large strike range, small steps of .01\n",
    "strikes_all = np.arange(strike_min, strike_max + strike_step, strike_step)\n",
    "strikes_all = np.round(strikes_all, 2)\n",
    "\n",
    "# strike subset, only strikes with steps of 0.1\n",
    "strikes_interp = np.arange(strike_min, strike_max + strike_step_large, strike_step_large)\n",
    "strikes_interp = np.round(strikes_interp,2)\n",
    "\n",
    "# Antonov IV for the subset of strikes\n",
    "iv_interp = [antonov.calc_iv(alpha, beta, rho, v, (K, 1), T) for K in strikes_interp]"
   ]
  },
  {
   "cell_type": "markdown",
   "metadata": {},
   "source": [
    "### Interpolate"
   ]
  },
  {
   "cell_type": "code",
   "execution_count": 8,
   "metadata": {
    "ExecuteTime": {
     "end_time": "2021-07-15T15:43:43.412309Z",
     "start_time": "2021-07-15T15:43:43.398067Z"
    }
   },
   "outputs": [],
   "source": [
    "f = interp1d(strikes_interp, iv_interp, kind='cubic')\n",
    "interpolated = f(strikes_all)\n",
    "smile['interpolated'] = interpolated"
   ]
  },
  {
   "cell_type": "markdown",
   "metadata": {
    "ExecuteTime": {
     "end_time": "2021-05-17T10:03:13.442159Z",
     "start_time": "2021-05-17T10:03:13.439134Z"
    }
   },
   "source": [
    "### Create plot"
   ]
  },
  {
   "cell_type": "code",
   "execution_count": 9,
   "metadata": {
    "ExecuteTime": {
     "end_time": "2021-07-15T15:43:43.569626Z",
     "start_time": "2021-07-15T15:43:43.556611Z"
    }
   },
   "outputs": [],
   "source": [
    "save_path = r\"C:\\Users\\hugo\\OneDrive\\Documents\\Quantitative Finance\\Thesis\\Plots\""
   ]
  },
  {
   "cell_type": "code",
   "execution_count": 10,
   "metadata": {
    "ExecuteTime": {
     "end_time": "2021-07-15T15:43:43.710729Z",
     "start_time": "2021-07-15T15:43:43.697385Z"
    }
   },
   "outputs": [],
   "source": [
    "colors = ['#d7191c','#fdae61','#abd9e9','#2c7bb6']"
   ]
  },
  {
   "cell_type": "code",
   "execution_count": 16,
   "metadata": {
    "ExecuteTime": {
     "end_time": "2021-07-15T15:45:09.631694Z",
     "start_time": "2021-07-15T15:45:09.307956Z"
    }
   },
   "outputs": [
    {
     "name": "stderr",
     "output_type": "stream",
     "text": [
      "The PostScript backend does not support transparency; partially transparent artists will be rendered opaque.\n",
      "The PostScript backend does not support transparency; partially transparent artists will be rendered opaque.\n",
      "The PostScript backend does not support transparency; partially transparent artists will be rendered opaque.\n",
      "The PostScript backend does not support transparency; partially transparent artists will be rendered opaque.\n",
      "The PostScript backend does not support transparency; partially transparent artists will be rendered opaque.\n",
      "The PostScript backend does not support transparency; partially transparent artists will be rendered opaque.\n",
      "The PostScript backend does not support transparency; partially transparent artists will be rendered opaque.\n",
      "The PostScript backend does not support transparency; partially transparent artists will be rendered opaque.\n",
      "The PostScript backend does not support transparency; partially transparent artists will be rendered opaque.\n",
      "The PostScript backend does not support transparency; partially transparent artists will be rendered opaque.\n",
      "The PostScript backend does not support transparency; partially transparent artists will be rendered opaque.\n",
      "The PostScript backend does not support transparency; partially transparent artists will be rendered opaque.\n",
      "The PostScript backend does not support transparency; partially transparent artists will be rendered opaque.\n",
      "The PostScript backend does not support transparency; partially transparent artists will be rendered opaque.\n"
     ]
    },
    {
     "data": {
      "image/png": "[encoded data removed]",
      "text/plain": [
       "<Figure size 432x288 with 1 Axes>"
      ]
     },
     "metadata": {
      "needs_background": "light"
     },
     "output_type": "display_data"
    }
   ],
   "source": [
    "ax = plt.subplot()\n",
    "\n",
    "plt.plot(smile['strike'], smile['Antonov Approx'], color=colors[0])\n",
    "plt.plot(smile['strike'], smile['interpolated'], linestyle='-.', color=colors[3])\n",
    "plt.scatter(strikes_interp, iv_interp, marker='+', s=150, zorder=10, color=colors[0])\n",
    "\n",
    "plt.xlim(.75,1.25)\n",
    "plt.ylim(0.1, 0.7)\n",
    "\n",
    "plt.grid(alpha=.5)\n",
    "plt.ylabel('$\\hat{\\sigma}_{IV}$')\n",
    "\n",
    "plt.xlabel('Strike')\n",
    "# plt.ylabel('Implied Volatility')\n",
    "\n",
    "labels = ['Antonov', 'Antonov Interpolated']\n",
    "plt.legend(loc=9, bbox_to_anchor=(0.5, -0.18), labels=labels, ncol=2)\n",
    "\n",
    "plt.savefig(save_path + '/interpolation.eps', bbox_inches='tight')\n"
   ]
  },
  {
   "cell_type": "code",
   "execution_count": null,
   "metadata": {},
   "outputs": [],
   "source": []
  }
 ],
 "metadata": {
  "kernelspec": {
   "display_name": "Python 3",
   "language": "python",
   "name": "python3"
  },
  "language_info": {
   "codemirror_mode": {
    "name": "ipython",
    "version": 3
   },
   "file_extension": ".py",
   "mimetype": "text/x-python",
   "name": "python",
   "nbconvert_exporter": "python",
   "pygments_lexer": "ipython3",
   "version": "3.8.3"
  },
  "varInspector": {
   "cols": {
    "lenName": 16,
    "lenType": 16,
    "lenVar": 40
   },
   "kernels_config": {
    "python": {
     "delete_cmd_postfix": "",
     "delete_cmd_prefix": "del ",
     "library": "var_list.py",
     "varRefreshCmd": "print(var_dic_list())"
    },
    "r": {
     "delete_cmd_postfix": ") ",
     "delete_cmd_prefix": "rm(",
     "library": "var_list.r",
     "varRefreshCmd": "cat(var_dic_list()) "
    }
   },
   "types_to_exclude": [
    "module",
    "function",
    "builtin_function_or_method",
    "instance",
    "_Feature"
   ],
   "window_display": false
  }
 },
 "nbformat": 4,
 "nbformat_minor": 4
}
