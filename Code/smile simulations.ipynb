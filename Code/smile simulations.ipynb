{
 "cells": [
  {
   "cell_type": "code",
   "execution_count": 1,
   "metadata": {
    "ExecuteTime": {
     "end_time": "2021-06-24T20:41:45.155190Z",
     "start_time": "2021-06-24T20:41:36.848076Z"
    }
   },
   "outputs": [],
   "source": [
    "import sys\n",
    "sys.path.append('src')\n",
    "from src import helperfunctions as hf\n",
    "from src import SABR\n",
    "from src.SABR_IV_approximators import Hagan, AntonovApprox, AntonovExact, AntonovANN, Obloj\n",
    "from src.classes import MatlabMonteCarlo\n",
    "\n",
    "import pandas as pd\n",
    "import numpy as np\n",
    "import datetime\n",
    "import pickle\n",
    "\n",
    "# Suppress warnings\n",
    "import warnings\n",
    "warnings.filterwarnings(\"ignore\")"
   ]
  },
  {
   "cell_type": "code",
   "execution_count": 2,
   "metadata": {
    "ExecuteTime": {
     "end_time": "2021-06-24T20:42:26.540571Z",
     "start_time": "2021-06-24T20:42:05.297154Z"
    }
   },
   "outputs": [
    {
     "name": "stdout",
     "output_type": "stream",
     "text": [
      "C:\\Users\\hugo\\OneDrive\\Documents\\Quantitative Finance\\Thesis\\Code\\matlab_code\n"
     ]
    }
   ],
   "source": [
    "MMC = MatlabMonteCarlo()"
   ]
  },
  {
   "cell_type": "code",
   "execution_count": 3,
   "metadata": {
    "ExecuteTime": {
     "end_time": "2021-06-24T20:42:30.624992Z",
     "start_time": "2021-06-24T20:42:30.609039Z"
    }
   },
   "outputs": [],
   "source": [
    "def get_list():\n",
    "    with open('mc_simulations.pkl', 'rb') as f:\n",
    "        return pickle.load(f)\n",
    "def save_list(l):\n",
    "    with open('mc_simulations.pkl', 'wb') as f:\n",
    "        pickle.dump(l, f)\n",
    "    "
   ]
  },
  {
   "cell_type": "markdown",
   "metadata": {},
   "source": [
    "### Start simulations"
   ]
  },
  {
   "cell_type": "code",
   "execution_count": null,
   "metadata": {},
   "outputs": [],
   "source": [
    "n = 7500\n",
    "l = get_list()\n",
    "for i in range(n):\n",
    "    # random parameter sampling\n",
    "    T = np.random.uniform(7/365, 10)\n",
    "    v = np.random.uniform(hf.v_t_lower(T), hf.v_t_upper(T))\n",
    "    alpha = np.random.uniform(0, 1)\n",
    "    rho = np.random.uniform(-.999, .5)\n",
    "    beta = 0.5\n",
    "    # simulate\n",
    "    smile = MMC.simulateSABRSmile(2.5e5, 50, T, 0.0, 1.0, alpha, beta, rho, v, (0.4,1.6,0.05), dx=1e-4)\n",
    "    \n",
    "    if(len(smile) <= 4):\n",
    "        print('Te klein')\n",
    "        continue\n",
    "    \n",
    "    if(1.0 not in smile['strike']):\n",
    "        print('No ATM')\n",
    "        continue\n",
    "    # Save smile to dictionary\n",
    "    param_dict = {'alpha':alpha, 'rho':rho, 'v':v, 'T':T}\n",
    "    l.append([param_dict, smile])\n",
    "    save_list(l)\n",
    "    print(i)\n",
    "# save_list(l)"
   ]
  }
 ],
 "metadata": {
  "kernelspec": {
   "display_name": "Python 3",
   "language": "python",
   "name": "python3"
  },
  "language_info": {
   "codemirror_mode": {
    "name": "ipython",
    "version": 3
   },
   "file_extension": ".py",
   "mimetype": "text/x-python",
   "name": "python",
   "nbconvert_exporter": "python",
   "pygments_lexer": "ipython3",
   "version": "3.8.3"
  },
  "varInspector": {
   "cols": {
    "lenName": 16,
    "lenType": 16,
    "lenVar": 40
   },
   "kernels_config": {
    "python": {
     "delete_cmd_postfix": "",
     "delete_cmd_prefix": "del ",
     "library": "var_list.py",
     "varRefreshCmd": "print(var_dic_list())"
    },
    "r": {
     "delete_cmd_postfix": ") ",
     "delete_cmd_prefix": "rm(",
     "library": "var_list.r",
     "varRefreshCmd": "cat(var_dic_list()) "
    }
   },
   "types_to_exclude": [
    "module",
    "function",
    "builtin_function_or_method",
    "instance",
    "_Feature"
   ],
   "window_display": false
  }
 },
 "nbformat": 4,
 "nbformat_minor": 4
}
